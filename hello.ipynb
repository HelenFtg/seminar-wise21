{
 "cells": [
  {
   "cell_type": "markdown",
   "metadata": {},
   "source": [
    "# Welcome to the HEGL Proseminar (WiSe 2021) !\n",
    "\n",
    "## This is a Jupyter Notebook\n",
    "\n",
    "A Jupyter Notebook is a document that contains:\n",
    "* *code cells*, which contain Python code that can be executed and their output.\n",
    "* *markdown cells*, which contain text (and images, links, etc). \n",
    "\n",
    "Here is an easy tutorial to learn a little more: [https://www.dataquest.io/blog/jupyter-notebook-tutorial/](https://www.dataquest.io/blog/jupyter-notebook-tutorial/)\n",
    "\n",
    "What you are reading right now is a **markdown cell**. Below is an example of a **code cell**:"
   ]
  },
  {
   "cell_type": "code",
   "execution_count": 1,
   "metadata": {},
   "outputs": [],
   "source": [
    "def greet(name : str):\n",
    "    return 'Hi everyone!! My name is {}!'.format(name)"
   ]
  },
  {
   "cell_type": "markdown",
   "metadata": {},
   "source": [
    "And below is another code cell, and the result of its execution:"
   ]
  },
  {
   "cell_type": "code",
   "execution_count": 2,
   "metadata": {},
   "outputs": [
    {
     "data": {
      "text/plain": [
       "'Hi everyone!! My name is Brice!'"
      ]
     },
     "execution_count": 2,
     "metadata": {},
     "output_type": "execute_result"
    }
   ],
   "source": [
    "name = 'Brice'\n",
    "greet(name)"
   ]
  },
  {
   "cell_type": "markdown",
   "metadata": {},
   "source": [
    "# Now your turn!"
   ]
  },
  {
   "cell_type": "code",
   "execution_count": 3,
   "metadata": {},
   "outputs": [],
   "source": [
    "def greet_special(pinfo:list):\n",
    "    return 'Hi everyone! My name is {}, I am {} years old and will give my Talk on the topic of {}. See you next Wednesday!'.format(pinfo[0],pinfo[1],pinfo[2])"
   ]
  },
  {
   "cell_type": "code",
   "execution_count": 4,
   "metadata": {},
   "outputs": [
    {
     "data": {
      "text/plain": [
       "'Hi everyone! My name is Simon, I am 20 years old and will give my Talk on the topic of Minkowski space. See you next Wednesday!'"
      ]
     },
     "execution_count": 4,
     "metadata": {},
     "output_type": "execute_result"
    }
   ],
   "source": [
    "pinfo_SMH = ['Simon',20,'Minkowski space']\n",
    "greet_special(pinfo_SMH)"
   ]
  },
  {
   "cell_type": "code",
   "execution_count": 5,
   "metadata": {},
   "outputs": [
    {
     "data": {
      "text/plain": [
       "\"Hey, my name is Mathias. I'm 23 years old and my talk is about git. I've pushed this code using a ssh connection.\""
      ]
     },
     "execution_count": 5,
     "metadata": {},
     "output_type": "execute_result"
    }
   ],
   "source": [
    "def greet_very_special(name, age, topic, method):\n",
    "    return \"Hey, my name is {}. I'm {} years old and my talk is about {}. I've pushed this code using a {}.\".format(name, age, topic, method)\n",
    "\n",
    "greet_very_special('Mathias', 23, 'git', 'ssh connection')"
   ]
  },
  {
   "cell_type": "code",
   "execution_count": 6,
   "metadata": {},
   "outputs": [
    {
     "data": {
      "text/plain": [
       "'Hello, my name is Ronya. I am 22 years old and study mathematics and philosophy, hence my preoccupation with logic.'"
      ]
     },
     "execution_count": 6,
     "metadata": {},
     "output_type": "execute_result"
    }
   ],
   "source": [
    "def greet_variation(name, age, subject, topic):\n",
    "    return f\"Hello, my name is {name}. I am {age} years old and study {subject}, hence my preoccupation with {topic}.\"\n",
    "\n",
    "greet_variation('Ronya', 22, 'mathematics and philosophy', 'logic')"
   ]
  }
 ],
 "metadata": {
  "interpreter": {
   "hash": "916dbcbb3f70747c44a77c7bcd40155683ae19c65e1c03b4aa3499c5328201f1"
  },
  "kernelspec": {
   "display_name": "Python 3 (ipykernel)",
   "language": "python",
   "name": "python3"
  },
  "language_info": {
   "codemirror_mode": {
    "name": "ipython",
    "version": 3
   },
   "file_extension": ".py",
   "mimetype": "text/x-python",
   "name": "python",
   "nbconvert_exporter": "python",
   "pygments_lexer": "ipython3",
   "version": "3.9.0"
  }
 },
 "nbformat": 4,
 "nbformat_minor": 4
}
