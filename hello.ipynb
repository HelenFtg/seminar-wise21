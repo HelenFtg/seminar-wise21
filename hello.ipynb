{
 "cells": [
  {
   "cell_type": "markdown",
   "id": "5f62ef09",
   "metadata": {},
   "source": [
    "# Welcome to the HEGL Proseminar (WiSe 2021) !\n",
    "\n",
    "## This is a Jupyter Notebook\n",
    "\n",
    "A Jupyter Notebook is a document that contains:\n",
    "* *code cells*, which contain Python code that can be executed and their output.\n",
    "* *markdown cells*, which contain text (and images, links, etc). \n",
    "\n",
    "Here is an easy tutorial to learn a little more: [https://www.dataquest.io/blog/jupyter-notebook-tutorial/](https://www.dataquest.io/blog/jupyter-notebook-tutorial/)\n",
    "\n",
    "What you are reading right now is a **markdown cell**. Below is an example of a **code cell**:"
   ]
  },
  {
   "cell_type": "code",
   "execution_count": 4,
   "id": "260d5c28",
   "metadata": {},
   "outputs": [],
   "source": [
    "def greet(name : str):\n",
    "    return 'Hi everyone!!!! My name is {}!'.format(name)"
   ]
  },
  {
   "cell_type": "markdown",
   "id": "84216459",
   "metadata": {},
   "source": [
    "And below is another code cell, and the result of its execution:"
   ]
  },
  {
   "cell_type": "code",
   "execution_count": 5,
   "id": "6500d9ce",
   "metadata": {},
   "outputs": [
    {
     "data": {
      "text/plain": [
       "'Hi everyone!! My name is Brice!'"
      ]
     },
     "execution_count": 5,
     "metadata": {},
     "output_type": "execute_result"
    }
   ],
   "source": [
    "name = 'Brice'\n",
    "greet(name)"
   ]
  },
  {
   "cell_type": "code",
   "execution_count": 6,
   "id": "115d577a",
   "metadata": {},
   "outputs": [
    {
     "data": {
      "text/plain": [
       "'Hi everyone!! My name is Anja!'"
      ]
     },
     "execution_count": 6,
     "metadata": {},
     "output_type": "execute_result"
    }
   ],
   "source": [
    "name = 'Anja'\n",
    "greet(name)"
   ]
  },
  {
   "cell_type": "markdown",
   "id": "879b190a",
   "metadata": {},
   "source": [
    "# Now your turn!"
   ]
  },
  {
   "cell_type": "code",
   "execution_count": 7,
   "id": "1cfa254c",
   "metadata": {},
   "outputs": [],
   "source": [
    "def greet_special(pinfo:list):\n",
    "    return 'Hi everyone! My name is {}, I am {} years old and will give my Talk on the topic of {}. See you next Wednesday!'.format(pinfo[0],pinfo[1],pinfo[2])"
   ]
  },
  {
   "cell_type": "code",
   "execution_count": 8,
   "id": "0807918d",
   "metadata": {},
   "outputs": [
    {
     "data": {
      "text/plain": [
       "'Hi everyone! My name is Simon, I am 20 years old and will give my Talk on the topic of Minkowski space. See you next Wednesday!'"
      ]
     },
     "execution_count": 8,
     "metadata": {},
     "output_type": "execute_result"
    }
   ],
   "source": [
    "pinfo_SMH = ['Simon',20,'Minkowski space']\n",
    "greet_special(pinfo_SMH)"
   ]
  },
  {
   "cell_type": "code",
   "execution_count": 9,
   "id": "8fee8751",
   "metadata": {},
   "outputs": [
    {
     "data": {
      "text/plain": [
       "\"Hey, my name is Mathias. I'm 23 years old and my talk is about git. I've pushed this code using a ssh connection.\""
      ]
     },
     "execution_count": 9,
     "metadata": {},
     "output_type": "execute_result"
    }
   ],
   "source": [
    "def greet_very_special(name, age, topic, method):\n",
    "    return \"Hey, my name is {}. I'm {} years old and my talk is about {}. I've pushed this code using a {}.\".format(name, age, topic, method)\n",
    "\n",
    "greet_very_special('Mathias', 23, 'git', 'ssh connection')"
   ]
  },
  {
   "cell_type": "code",
   "execution_count": 10,
   "id": "aa065864",
   "metadata": {},
   "outputs": [
    {
     "data": {
      "text/plain": [
       "'Hello, my name is Ronya. I am 22 years old and study mathematics and philosophy, hence my preoccupation with logic.'"
      ]
     },
     "execution_count": 10,
     "metadata": {},
     "output_type": "execute_result"
    }
   ],
   "source": [
    "def greet_variation(name, age, subject, topic):\n",
    "    return f\"Hello, my name is {name}. I am {age} years old and study {subject}, hence my preoccupation with {topic}.\"\n",
    "\n",
    "greet_variation('Ronya', 22, 'mathematics and philosophy', 'logic')"
   ]
  },
  {
   "cell_type": "code",
   "execution_count": null,
   "id": "b6c6b2fb",
   "metadata": {},
   "outputs": [],
   "source": [
    "name = 'Isabel'\n",
    "greet(name)"
   ]
  },
  {
   "cell_type": "code",
   "execution_count": 2,
   "id": "52e0258c",
   "metadata": {},
   "outputs": [
    {
     "data": {
      "text/plain": [
       "\"Hi, my name is Phil and I'm 19 years old. My topic was about the poincaré disk. :)\""
      ]
     },
     "execution_count": 2,
     "metadata": {},
     "output_type": "execute_result"
    }
   ],
   "source": [
    "def greet_not_so_special(name,age,topic):\n",
    "    return \"Hi, my name is {} and I'm {} years old. My topic was about {}. :)\".format(name,age,topic)\n",
    "\n",
    "greet_not_so_special('Phil', 19, 'the poincaré disk')"
   ]
  },
  {
   "cell_type": "code",
<<<<<<< HEAD
   "execution_count": 2,
=======
   "execution_count": 1,
>>>>>>> 43a853e0702080b6052e50afc126de3c9a7596cb
   "id": "1112887d",
   "metadata": {},
   "outputs": [
    {
     "data": {
      "text/plain": [
<<<<<<< HEAD
       "\"Hi, my name is Karina and I'm 20+1 years young. My topic was about the poincaré half plane (part I).\""
      ]
     },
     "execution_count": 2,
=======
       "'Hello there, my name is Deniz, I am 20 years old. I had a talk on curvature. '"
      ]
     },
     "execution_count": 1,
>>>>>>> 43a853e0702080b6052e50afc126de3c9a7596cb
     "metadata": {},
     "output_type": "execute_result"
    }
   ],
   "source": [
<<<<<<< HEAD
    "def greeting(name, age, topic):\n",
    "    return \"Hi, my name is {} and I'm {} years young. My topic was about {}.\".format(name, age, topic)\n",
    "\n",
    "greeting('Karina', '20+1', 'the poincaré half plane (part I)')"
   ]
  },
  {
   "cell_type": "code",
   "execution_count": null,
   "id": "6f6e42d5",
   "metadata": {},
   "outputs": [],
   "source": []
=======
    "def greet_relatively_special(name,age,topic):\n",
    "    return \"Hello there, my name is {}, I am {} years old. I had a talk on {}. \".format(name, age, topic)\n",
    "greet_relatively_special('Deniz',20,'curvature')"
   ]
>>>>>>> 43a853e0702080b6052e50afc126de3c9a7596cb
  }
 ],
 "metadata": {
  "interpreter": {
   "hash": "aee8b7b246df8f9039afb4144a1f6fd8d2ca17a180786b69acc140d282b71a49"
  },
  "kernelspec": {
   "display_name": "Python 3.10.0 64-bit",
   "name": "python3"
  },
  "language_info": {
   "codemirror_mode": {
    "name": "ipython",
    "version": 3
   },
   "file_extension": ".py",
   "mimetype": "text/x-python",
   "name": "python",
   "nbconvert_exporter": "python",
   "pygments_lexer": "ipython3",
<<<<<<< HEAD
   "version": "3.8.10"
=======
   "version": "3.10.0"
>>>>>>> 43a853e0702080b6052e50afc126de3c9a7596cb
  }
 },
 "nbformat": 4,
 "nbformat_minor": 5
}
